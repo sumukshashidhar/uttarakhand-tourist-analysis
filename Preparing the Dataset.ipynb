{
 "cells": [
  {
   "cell_type": "code",
   "execution_count": 83,
   "metadata": {},
   "outputs": [],
   "source": [
    "import os\n",
    "import pandas as pd"
   ]
  },
  {
   "cell_type": "code",
   "execution_count": 84,
   "metadata": {},
   "outputs": [],
   "source": [
    "DATA_DIRS = ('./data/almora/almora/', \n",
    "             './data/badrinath-20200601T074712Z-001/badrinath/', \n",
    "             './data/Udham-Singh-Nagar-District-20200601T074828Z-001/Udham-Singh-Nagar-District/',\n",
    "             './data/uttarkashi-20200601T115810Z-001/uttarkashi/',\n",
    "             './data/bageshwar/bageshwar/',\n",
    "             './data/kangra-20200602T051007Z-001/kangra/',\n",
    "             './data/kinnaur-20200602T051105Z-001/kinnaur/',\n",
    "             './data/ladakh-20200602T051133Z-001/ladakh/',\n",
    "             './data/joshimath-20200601T074052Z-001/joshimath/',\n",
    "             './data/champawat-20200601T115651Z-001/champawat/',\n",
    "             './data/shimla-20200602T051513Z-001/shimla/',\n",
    "             './data/pithoragarh/pithoragarh/',\n",
    "             './data/rudraprayag-20200602T051459Z-001/rudraprayag/',\n",
    "             './data/haridwar-20200601T120022Z-001/haridwar/',\n",
    "             './data/mandi-20200602T051403Z-001/mandi/',\n",
    "             './data/tehri-gharwal-20200601T073409Z-001/tehri-gharwal/',\n",
    "             './data/pauri-garhwal-20200601T115802Z-001/pauri-garhwal/',\n",
    "             './data/rudraprayag-20200602T051459Z-001/rudraprayag/',\n",
    "             './data/Chamoli-20200601T161834Z-001/Chamoli/',\n",
    "             './data/lahul_spiti-20200602T051327Z-001/lahul_spiti/'\n",
    "             )"
   ]
  },
  {
   "cell_type": "code",
   "execution_count": 85,
   "metadata": {},
   "outputs": [
    {
     "data": {
      "text/plain": [
       "1646"
      ]
     },
     "execution_count": 85,
     "metadata": {},
     "output_type": "execute_result"
    }
   ],
   "source": [
    "files = set()\n",
    "for i in DATA_DIRS:\n",
    "    for j in os.listdir(i):\n",
    "        files.add(i + j)\n",
    "len(files)"
   ]
  },
  {
   "cell_type": "code",
   "execution_count": 86,
   "metadata": {},
   "outputs": [
    {
     "name": "stdout",
     "output_type": "stream",
     "text": [
      "./data/pithoragarh/pithoragarh/hotels.txt\n",
      "./data/almora/almora/hotels.txt\n",
      "./data/bageshwar/bageshwar/hotels.txt\n"
     ]
    }
   ],
   "source": [
    "frames = []\n",
    "for i in files:\n",
    "    frame = pd.read_csv(i)\n",
    "    try:\n",
    "        frame['spot'] = [i[i.rindex('/')+1:i.rindex('-')]]*len(frame.index)\n",
    "        frames.append(frame)\n",
    "    except:\n",
    "        print(i)"
   ]
  },
  {
   "cell_type": "code",
   "execution_count": 87,
   "metadata": {},
   "outputs": [],
   "source": [
    "result_df = pd.concat(frames)"
   ]
  },
  {
   "cell_type": "code",
   "execution_count": 88,
   "metadata": {},
   "outputs": [],
   "source": [
    "result_df = result_df[['location', 'review', 'name', 'userloc', 'rating', 'spot']]"
   ]
  },
  {
   "cell_type": "code",
   "execution_count": 92,
   "metadata": {},
   "outputs": [
    {
     "data": {
      "text/html": [
       "<div>\n",
       "<style scoped>\n",
       "    .dataframe tbody tr th:only-of-type {\n",
       "        vertical-align: middle;\n",
       "    }\n",
       "\n",
       "    .dataframe tbody tr th {\n",
       "        vertical-align: top;\n",
       "    }\n",
       "\n",
       "    .dataframe thead th {\n",
       "        text-align: right;\n",
       "    }\n",
       "</style>\n",
       "<table border=\"1\" class=\"dataframe\">\n",
       "  <thead>\n",
       "    <tr style=\"text-align: right;\">\n",
       "      <th></th>\n",
       "      <th>location</th>\n",
       "      <th>review</th>\n",
       "      <th>name</th>\n",
       "      <th>userloc</th>\n",
       "      <th>rating</th>\n",
       "      <th>spot</th>\n",
       "    </tr>\n",
       "  </thead>\n",
       "  <tbody>\n",
       "    <tr>\n",
       "      <th>1808</th>\n",
       "      <td>mandi</td>\n",
       "      <td>Beautiful resort about 14km from Shimla.  Love...</td>\n",
       "      <td>escholte</td>\n",
       "      <td>Chilcompton, United Kingdom</td>\n",
       "      <td>50.0</td>\n",
       "      <td>Wildflower_Hall_An_Oberoi_Resort_Shimla</td>\n",
       "    </tr>\n",
       "    <tr>\n",
       "      <th>1809</th>\n",
       "      <td>mandi</td>\n",
       "      <td>An excellent hotel with excellent service.  Th...</td>\n",
       "      <td>GlobalWorldTraveller</td>\n",
       "      <td>UK</td>\n",
       "      <td>50.0</td>\n",
       "      <td>Wildflower_Hall_An_Oberoi_Resort_Shimla</td>\n",
       "    </tr>\n",
       "    <tr>\n",
       "      <th>1810</th>\n",
       "      <td>mandi</td>\n",
       "      <td>Actually there's nothing i can say negative ab...</td>\n",
       "      <td>FellowTraveler24685</td>\n",
       "      <td>Gary</td>\n",
       "      <td>50.0</td>\n",
       "      <td>Wildflower_Hall_An_Oberoi_Resort_Shimla</td>\n",
       "    </tr>\n",
       "    <tr>\n",
       "      <th>1811</th>\n",
       "      <td>mandi</td>\n",
       "      <td>OIt is hard to find anything to complain about...</td>\n",
       "      <td>Ross R</td>\n",
       "      <td>Hong Kong, China</td>\n",
       "      <td>50.0</td>\n",
       "      <td>Wildflower_Hall_An_Oberoi_Resort_Shimla</td>\n",
       "    </tr>\n",
       "    <tr>\n",
       "      <th>1812</th>\n",
       "      <td>mandi</td>\n",
       "      <td>A trully exceptional hotel.  From the food to ...</td>\n",
       "      <td>WirralChris</td>\n",
       "      <td>Wirral, UK</td>\n",
       "      <td>50.0</td>\n",
       "      <td>Wildflower_Hall_An_Oberoi_Resort_Shimla</td>\n",
       "    </tr>\n",
       "  </tbody>\n",
       "</table>\n",
       "</div>"
      ],
      "text/plain": [
       "     location                                             review  \\\n",
       "1808    mandi  Beautiful resort about 14km from Shimla.  Love...   \n",
       "1809    mandi  An excellent hotel with excellent service.  Th...   \n",
       "1810    mandi  Actually there's nothing i can say negative ab...   \n",
       "1811    mandi  OIt is hard to find anything to complain about...   \n",
       "1812    mandi  A trully exceptional hotel.  From the food to ...   \n",
       "\n",
       "                      name                      userloc  rating  \\\n",
       "1808              escholte  Chilcompton, United Kingdom    50.0   \n",
       "1809  GlobalWorldTraveller                           UK    50.0   \n",
       "1810   FellowTraveler24685                         Gary    50.0   \n",
       "1811                Ross R             Hong Kong, China    50.0   \n",
       "1812           WirralChris                   Wirral, UK    50.0   \n",
       "\n",
       "                                         spot  \n",
       "1808  Wildflower_Hall_An_Oberoi_Resort_Shimla  \n",
       "1809  Wildflower_Hall_An_Oberoi_Resort_Shimla  \n",
       "1810  Wildflower_Hall_An_Oberoi_Resort_Shimla  \n",
       "1811  Wildflower_Hall_An_Oberoi_Resort_Shimla  \n",
       "1812  Wildflower_Hall_An_Oberoi_Resort_Shimla  "
      ]
     },
     "execution_count": 92,
     "metadata": {},
     "output_type": "execute_result"
    }
   ],
   "source": [
    "result_df.tail()"
   ]
  },
  {
   "cell_type": "code",
   "execution_count": 90,
   "metadata": {},
   "outputs": [],
   "source": [
    "result_df = result_df.dropna()"
   ]
  },
  {
   "cell_type": "code",
   "execution_count": 91,
   "metadata": {},
   "outputs": [],
   "source": [
    "result_df.to_csv('./processed_data/review.csv', index=False)"
   ]
  },
  {
   "cell_type": "code",
   "execution_count": null,
   "metadata": {},
   "outputs": [],
   "source": []
  }
 ],
 "metadata": {
  "kernelspec": {
   "display_name": "Python 3",
   "language": "python",
   "name": "python3"
  },
  "language_info": {
   "codemirror_mode": {
    "name": "ipython",
    "version": 3
   },
   "file_extension": ".py",
   "mimetype": "text/x-python",
   "name": "python",
   "nbconvert_exporter": "python",
   "pygments_lexer": "ipython3",
   "version": "3.8.6"
  }
 },
 "nbformat": 4,
 "nbformat_minor": 4
}
