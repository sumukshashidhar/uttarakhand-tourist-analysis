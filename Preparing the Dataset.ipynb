{
 "cells": [
  {
   "cell_type": "code",
   "execution_count": 59,
   "metadata": {},
   "outputs": [],
   "source": [
    "import os\n",
    "import pandas as pd"
   ]
  },
  {
   "cell_type": "code",
   "execution_count": 50,
   "metadata": {},
   "outputs": [],
   "source": [
    "DATA_DIRS = ('./data/almora/almora/', \n",
    "             './data/badrinath-20200601T074712Z-001/badrinath/', \n",
    "             './data/Udham-Singh-Nagar-District-20200601T074828Z-001/Udham-Singh-Nagar-District/',\n",
    "             './data/uttarkashi-20200601T115810Z-001/uttarkashi/',\n",
    "             './data/bageshwar/bageshwar/',\n",
    "             './data/kangra-20200602T051007Z-001/kangra/',\n",
    "             './data/kinnaur-20200602T051105Z-001/kinnaur/',\n",
    "             './data/ladakh-20200602T051133Z-001/ladakh/',\n",
    "             './data/joshimath-20200601T074052Z-001/joshimath/',\n",
    "             './data/champawat-20200601T115651Z-001/champawat/',\n",
    "             './data/shimla-20200602T051513Z-001/shimla/',\n",
    "             './data/pithoragarh/pithoragarh/',\n",
    "             './data/rudraprayag-20200602T051459Z-001/rudraprayag/',\n",
    "             './data/haridwar-20200601T120022Z-001/haridwar/',\n",
    "             './data/mandi-20200602T051403Z-001/mandi/',\n",
    "             './data/tehri-gharwal-20200601T073409Z-001/tehri-gharwal/',\n",
    "             './data/pauri-garhwal-20200601T115802Z-001/pauri-garhwal/',\n",
    "             './data/rudraprayag-20200602T051459Z-001/rudraprayag/',\n",
    "             './data/Chamoli-20200601T161834Z-001/Chamoli/',\n",
    "             './data/lahul_spiti-20200602T051327Z-001/lahul_spiti/'\n",
    "             )"
   ]
  },
  {
   "cell_type": "code",
   "execution_count": 51,
   "metadata": {},
   "outputs": [
    {
     "data": {
      "text/plain": [
       "1646"
      ]
     },
     "execution_count": 51,
     "metadata": {},
     "output_type": "execute_result"
    }
   ],
   "source": [
    "files = set()\n",
    "for i in DATA_DIRS:\n",
    "    for j in os.listdir(i):\n",
    "        files.add(i + j)\n",
    "len(files)"
   ]
  },
  {
   "cell_type": "code",
   "execution_count": 52,
   "metadata": {},
   "outputs": [],
   "source": [
    "frames = []\n",
    "for i in files:\n",
    "    frames.append(pd.read_csv(i))"
   ]
  },
  {
   "cell_type": "code",
   "execution_count": 53,
   "metadata": {},
   "outputs": [],
   "source": [
    "result_df = pd.concat(frames)"
   ]
  },
  {
   "cell_type": "code",
   "execution_count": 54,
   "metadata": {},
   "outputs": [],
   "source": [
    "result_df = result_df[['location', 'review', 'name', 'userloc', 'rating']]"
   ]
  },
  {
   "cell_type": "code",
   "execution_count": 55,
   "metadata": {},
   "outputs": [
    {
     "data": {
      "text/html": [
       "<div>\n",
       "<style scoped>\n",
       "    .dataframe tbody tr th:only-of-type {\n",
       "        vertical-align: middle;\n",
       "    }\n",
       "\n",
       "    .dataframe tbody tr th {\n",
       "        vertical-align: top;\n",
       "    }\n",
       "\n",
       "    .dataframe thead th {\n",
       "        text-align: right;\n",
       "    }\n",
       "</style>\n",
       "<table border=\"1\" class=\"dataframe\">\n",
       "  <thead>\n",
       "    <tr style=\"text-align: right;\">\n",
       "      <th></th>\n",
       "      <th>location</th>\n",
       "      <th>review</th>\n",
       "      <th>name</th>\n",
       "      <th>userloc</th>\n",
       "      <th>rating</th>\n",
       "    </tr>\n",
       "  </thead>\n",
       "  <tbody>\n",
       "    <tr>\n",
       "      <th>0</th>\n",
       "      <td>ladakh</td>\n",
       "      <td>All tents here in Pangong are Good option, to ...</td>\n",
       "      <td>Rajesh S</td>\n",
       "      <td>NaN</td>\n",
       "      <td>30.0</td>\n",
       "    </tr>\n",
       "    <tr>\n",
       "      <th>1</th>\n",
       "      <td>ladakh</td>\n",
       "      <td>A basic tented camp located about 100m from th...</td>\n",
       "      <td>Mayur S</td>\n",
       "      <td>Mumbai, India</td>\n",
       "      <td>40.0</td>\n",
       "    </tr>\n",
       "    <tr>\n",
       "      <th>2</th>\n",
       "      <td>ladakh</td>\n",
       "      <td>We stayed 1 night here to enjoy the beauty of ...</td>\n",
       "      <td>Saikat S</td>\n",
       "      <td>Kolkata, India</td>\n",
       "      <td>50.0</td>\n",
       "    </tr>\n",
       "    <tr>\n",
       "      <th>3</th>\n",
       "      <td>ladakh</td>\n",
       "      <td>best Pangong view but in the night its chilly ...</td>\n",
       "      <td>Pratik J</td>\n",
       "      <td>NaN</td>\n",
       "      <td>30.0</td>\n",
       "    </tr>\n",
       "    <tr>\n",
       "      <th>4</th>\n",
       "      <td>ladakh</td>\n",
       "      <td>A little away from the lake on a height. Gives...</td>\n",
       "      <td>indian302</td>\n",
       "      <td>Hyderabad, India</td>\n",
       "      <td>40.0</td>\n",
       "    </tr>\n",
       "  </tbody>\n",
       "</table>\n",
       "</div>"
      ],
      "text/plain": [
       "  location                                             review       name  \\\n",
       "0   ladakh  All tents here in Pangong are Good option, to ...   Rajesh S   \n",
       "1   ladakh  A basic tented camp located about 100m from th...    Mayur S   \n",
       "2   ladakh  We stayed 1 night here to enjoy the beauty of ...   Saikat S   \n",
       "3   ladakh  best Pangong view but in the night its chilly ...   Pratik J   \n",
       "4   ladakh  A little away from the lake on a height. Gives...  indian302   \n",
       "\n",
       "            userloc  rating  \n",
       "0               NaN    30.0  \n",
       "1     Mumbai, India    40.0  \n",
       "2    Kolkata, India    50.0  \n",
       "3               NaN    30.0  \n",
       "4  Hyderabad, India    40.0  "
      ]
     },
     "execution_count": 55,
     "metadata": {},
     "output_type": "execute_result"
    }
   ],
   "source": [
    "result_df.head()"
   ]
  },
  {
   "cell_type": "code",
   "execution_count": 56,
   "metadata": {},
   "outputs": [],
   "source": [
    "result_df = result_df.dropna()"
   ]
  },
  {
   "cell_type": "code",
   "execution_count": 58,
   "metadata": {},
   "outputs": [],
   "source": [
    "result_df.to_csv('./processed_data/review.csv', index=False)"
   ]
  },
  {
   "cell_type": "code",
   "execution_count": null,
   "metadata": {},
   "outputs": [],
   "source": []
  }
 ],
 "metadata": {
  "kernelspec": {
   "display_name": "Python 3",
   "language": "python",
   "name": "python3"
  },
  "language_info": {
   "codemirror_mode": {
    "name": "ipython",
    "version": 3
   },
   "file_extension": ".py",
   "mimetype": "text/x-python",
   "name": "python",
   "nbconvert_exporter": "python",
   "pygments_lexer": "ipython3",
   "version": "3.8.6"
  }
 },
 "nbformat": 4,
 "nbformat_minor": 4
}
